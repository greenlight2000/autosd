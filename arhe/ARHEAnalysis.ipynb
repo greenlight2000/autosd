{
 "cells": [
  {
   "cell_type": "code",
   "execution_count": 1,
   "metadata": {},
   "outputs": [],
   "source": [
    "import json\n",
    "import pandas"
   ]
  },
  {
   "cell_type": "code",
   "execution_count": 2,
   "metadata": {},
   "outputs": [],
   "source": [
    "def get_result_for_label(label, start_idx=0, end_idx=10):\n",
    "    full_info_list = []\n",
    "    for run_idx in range(start_idx, end_idx):\n",
    "        with open(f'{label}_{run_idx}.json') as f:\n",
    "            autosd_results = json.load(f)\n",
    "        for arhe_idx, autosd_apr_res in enumerate(autosd_results):\n",
    "            bug_name = autosd_apr_res['task_id']\n",
    "            autosd_repair_succ = autosd_apr_res['passed']\n",
    "            if 'trace' not in autosd_apr_res:\n",
    "                continue\n",
    "            synth_process = autosd_apr_res['trace'].split('## Analysis')[-1]\n",
    "            debugging_done = '<DEBUGGING DONE>' in synth_process\n",
    "            succ_hypothesis = 'The hypothesis is supported' in synth_process or 'The hypothesis was supported' in synth_process\n",
    "            full_info_list.append({\n",
    "                'run_idx': run_idx,\n",
    "                'humaneval_name': bug_name,\n",
    "                'arhe_idx': arhe_idx,\n",
    "                'autosd_repair_succ': autosd_repair_succ,\n",
    "                'debugging_done': debugging_done,\n",
    "                'succ_hypothesis': succ_hypothesis,\n",
    "            })\n",
    "    return pandas.DataFrame(full_info_list)"
   ]
  },
  {
   "cell_type": "code",
   "execution_count": 3,
   "metadata": {},
   "outputs": [
    {
     "name": "stdout",
     "output_type": "stream",
     "text": [
      "AutoSD Fixed: 189\n",
      "Acc of Done: 0.8188277087033747\n",
      "Acc of Not Done: 0.6941508104298802\n"
     ]
    }
   ],
   "source": [
    "# headline results\n",
    "label = './data/chatgpt002_ZSDloopV4_s3_out'\n",
    "full_info_df = get_result_for_label(label)\n",
    "print('AutoSD Fixed:', full_info_df[full_info_df.autosd_repair_succ]['arhe_idx'].nunique())\n",
    "\n",
    "print('Acc of Done:', (full_info_df[full_info_df.debugging_done]['autosd_repair_succ'].sum()/\n",
    "                      full_info_df.debugging_done.sum()))\n",
    "print('Acc of Not Done:', (full_info_df[~full_info_df.debugging_done]['autosd_repair_succ'].sum()/\n",
    "                           (~full_info_df.debugging_done).sum()))"
   ]
  },
  {
   "cell_type": "code",
   "execution_count": null,
   "metadata": {},
   "outputs": [],
   "source": []
  },
  {
   "cell_type": "code",
   "execution_count": 4,
   "metadata": {},
   "outputs": [
    {
     "data": {
      "text/plain": [
       "179"
      ]
     },
     "execution_count": 4,
     "metadata": {},
     "output_type": "execute_result"
    }
   ],
   "source": [
    "# LLM-Base results\n",
    "label = './data/chatgpt002_ZSnoSDloopV4_s0_out'\n",
    "full_info_df = get_result_for_label(label)\n",
    "full_info_df[full_info_df.autosd_repair_succ]['arhe_idx'].nunique()"
   ]
  },
  {
   "cell_type": "code",
   "execution_count": 5,
   "metadata": {},
   "outputs": [
    {
     "data": {
      "text/plain": [
       "120"
      ]
     },
     "execution_count": 5,
     "metadata": {},
     "output_type": "execute_result"
    }
   ],
   "source": [
    "# Codex-AutoSD\n",
    "label = './data/codex_ZSD_loopV4_s3_results'\n",
    "full_info_df = get_result_for_label(label)\n",
    "full_info_df[full_info_df.autosd_repair_succ]['arhe_idx'].nunique()"
   ]
  },
  {
   "cell_type": "code",
   "execution_count": 6,
   "metadata": {},
   "outputs": [
    {
     "data": {
      "text/plain": [
       "180"
      ]
     },
     "execution_count": 6,
     "metadata": {},
     "output_type": "execute_result"
    }
   ],
   "source": [
    "# Codex LLM-Base\n",
    "label = './data/codex_ZSnoSD_loopV4_s0_T0'\n",
    "full_info_df = get_result_for_label(label)\n",
    "full_info_df[full_info_df.autosd_repair_succ]['arhe_idx'].nunique()"
   ]
  },
  {
   "cell_type": "code",
   "execution_count": 7,
   "metadata": {},
   "outputs": [
    {
     "data": {
      "text/plain": [
       "0"
      ]
     },
     "execution_count": 7,
     "metadata": {},
     "output_type": "execute_result"
    }
   ],
   "source": [
    "# CodeGen-Big (6B) AutoSD\n",
    "label = './data/BigCG_ZSDloopV4_s3_results'\n",
    "full_info_df = get_result_for_label(label)\n",
    "full_info_df[full_info_df.autosd_repair_succ]['arhe_idx'].nunique()"
   ]
  },
  {
   "cell_type": "code",
   "execution_count": 8,
   "metadata": {},
   "outputs": [
    {
     "data": {
      "text/plain": [
       "0"
      ]
     },
     "execution_count": 8,
     "metadata": {},
     "output_type": "execute_result"
    }
   ],
   "source": [
    "# CodeGen-Big (6B) LLM-Base\n",
    "label = './data/autosd/bigcg_results/BigCG_ZSnoSD_s0_results'\n",
    "full_info_df = get_result_for_label(label, start_idx=3, end_idx=4)\n",
    "full_info_df[full_info_df.autosd_repair_succ]['arhe_idx'].nunique()"
   ]
  },
  {
   "cell_type": "code",
   "execution_count": 9,
   "metadata": {},
   "outputs": [
    {
     "data": {
      "text/plain": [
       "44"
      ]
     },
     "execution_count": 9,
     "metadata": {},
     "output_type": "execute_result"
    }
   ],
   "source": [
    "# Fewshot CodeGen-Big (6B) LLM-Base\n",
    "label = './data/BigCG_FSnoSDnoDef_s0_results'\n",
    "full_info_df = get_result_for_label(label)\n",
    "full_info_df[full_info_df.autosd_repair_succ]['arhe_idx'].nunique()"
   ]
  },
  {
   "cell_type": "code",
   "execution_count": 10,
   "metadata": {},
   "outputs": [
    {
     "name": "stdout",
     "output_type": "stream",
     "text": [
      "85.77\n",
      "4.199654747714388\n"
     ]
    }
   ],
   "source": [
    "# reverse mutator baseline (implementation in reverse_mutator.py)\n",
    "import numpy as np\n",
    "base_perf = [83, 75, 85, 90, 82, 84, 82, 88, 79, 84, 86, 86, 93, 81, 85, 87, 81, 85, 92, 84, 95, 91, 87, 81, 93, 89, 84, 80, 89, 84, 86, 84, 85, 87, 83, 87, 90, 85, 82, 75, 84, 85, 88, 89, 91, 84, 93, 82, 82, 91, 83, 88, 77, 89, 82, 85, 88, 92, 91, 92, 84, 89, 87, 89, 93, 88, 89, 88, 85, 85, 78, 86, 85, 90, 86, 82, 84, 80, 87, 89, 91, 82, 89, 77, 88, 89, 88, 82, 91, 84, 86, 88, 81, 80, 79, 81, 89, 85, 88, 90]\n",
    "print(np.mean(base_perf))\n",
    "print(np.std(base_perf))"
   ]
  }
 ],
 "metadata": {
  "kernelspec": {
   "display_name": "ninedlenv",
   "language": "python",
   "name": "ninedlenv"
  },
  "language_info": {
   "codemirror_mode": {
    "name": "ipython",
    "version": 3
   },
   "file_extension": ".py",
   "mimetype": "text/x-python",
   "name": "python",
   "nbconvert_exporter": "python",
   "pygments_lexer": "ipython3",
   "version": "3.9.2"
  }
 },
 "nbformat": 4,
 "nbformat_minor": 2
}
