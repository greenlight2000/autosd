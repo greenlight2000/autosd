{
 "cells": [
  {
   "cell_type": "code",
   "execution_count": 1,
   "metadata": {},
   "outputs": [],
   "source": [
    "import json\n",
    "import pandas"
   ]
  },
  {
   "cell_type": "code",
   "execution_count": 21,
   "metadata": {},
   "outputs": [
    {
     "name": "stdout",
     "output_type": "stream",
     "text": [
      "Baseline Corrects, D4J v1.2: 87\n",
      "Baseline Corrects, D4J v2.0: 110\n",
      "AutoSD Corrects, D4J v1.2: 76\n",
      "AutoSD Corrects, D4J v2.0: 113\n"
     ]
    }
   ],
   "source": [
    "corr_fixed_info = pandas.read_csv('./data/d4j_corrects.csv').fillna(False)\n",
    "proj_name = corr_fixed_info['BugName'].map(lambda x: x.split('_')[0] if type(x) == str else x)\n",
    "id_num = corr_fixed_info['BugName'].map(lambda x: int(x.split('_')[1]) if type(x) == str else x)\n",
    "d4jv1_proj = proj_name.isin(['Chart', 'Closure', 'Lang', 'Math', 'Mockito', 'Time'])\n",
    "d4jv1_idx = d4jv1_proj & (id_num <= 133)\n",
    "corr_fixed_bugs = corr_fixed_info[corr_fixed_info.AutoSD]['BugName'].unique()\n",
    "print('Baseline Corrects, D4J v1.2:', corr_fixed_info[corr_fixed_info.Baseline & d4jv1_idx]['BugName'].nunique())\n",
    "print('Baseline Corrects, D4J v2.0:', corr_fixed_info[corr_fixed_info.Baseline & (~d4jv1_idx)]['BugName'].nunique())\n",
    "print('AutoSD Corrects, D4J v1.2:', corr_fixed_info[corr_fixed_info.AutoSD & d4jv1_idx]['BugName'].nunique())\n",
    "print('AutoSD Corrects, D4J v2.0:', corr_fixed_info[corr_fixed_info.AutoSD & (~d4jv1_idx)]['BugName'].nunique())"
   ]
  },
  {
   "cell_type": "code",
   "execution_count": 24,
   "metadata": {},
   "outputs": [],
   "source": [
    "full_info_list = []\n",
    "lang_weirdos = set(['org.apache.commons.lang.LocaleUtilsTest::testCountriesByLanguage'])\n",
    "closure_weirdos = set(['com.google.javascript.jscomp.CrossModuleMethodMotionTest::testTwoMethods', 'com.google.javascript.jscomp.CrossModuleMethodMotionTest::testClosureVariableReads3'])\n",
    "mockito_weirdos = set(['org.mockitousage.basicapi.MocksSerializationTest::shouldSerializeRealPartialMock', 'org.mockitousage.basicapi.MocksSerializationTest::shouldSerializeObjectMock'])\n",
    "time_weirdos = set(['org.joda.time.TestDateTimeZone::testGetName_berlin', 'org.joda.time.TestDateTimeZone::testGetShortName', 'org.joda.time.TestDateTimeZone::testGetName', 'org.joda.time.TestDateTimeZone::testGetShortName_berlin', 'org.joda.time.format.TestDateTimeFormat::testFormat_zoneText', 'org.joda.time.format.TestDateTimeFormat::testFormat_zoneLongText', 'org.joda.time.format.TestDateTimeFormatStyle::testForStyle_fullDateTime', 'org.joda.time.format.TestDateTimeFormatStyle::testForStyle_mediumLongDateTime', 'org.joda.time.format.TestDateTimeFormatStyle::testForStyle_fullTime', 'org.joda.time.format.TestDateTimeFormatStyle::testForStyle_shortLongDateTime', 'org.joda.time.format.TestDateTimeFormatStyle::testForStyle_longTime', 'org.joda.time.format.TestDateTimeFormatStyle::testForStyle_mediumFullDateTime', 'org.joda.time.format.TestDateTimeFormatStyle::testForStyle_shortFullDateTime', 'org.joda.time.format.TestDateTimeFormatStyle::testForStyle_longDateTime', 'org.joda.time.format.TestDateTimeFormatter::testZoneShortNameNearTransition', 'org.joda.time.format.TestDateTimeFormatter::testZoneNameNearTransition', 'org.joda.time.format.TestDateTimeFormatterBuilder::test_printParseLongName', 'org.joda.time.format.TestDateTimeFormatterBuilder::test_printParseLongNameWithLookup', 'org.joda.time.format.TestDateTimeFormatterBuilder::test_printParseShortNameWithLookup', 'org.joda.time.format.TestDateTimeFormatterBuilder::test_printParseShortName'])\n",
    "math_weirdos = set(['org.apache.commons.math3.util.FastMathTest::checkMissingFastMathClasses', 'org.apache.commons.math.util.FastMathTest::checkMissingFastMathClasses'])\n",
    "all_weirdos = time_weirdos | closure_weirdos | mockito_weirdos | math_weirdos | lang_weirdos\n",
    "for run_idx in range(10):\n",
    "    with open(f'./data/zsBaseline1024_s0_chatgpt_testResults_{run_idx}_T0.7.jsonl') as f:\n",
    "        base_results = json.load(f)\n",
    "        base_id2res = {e['task_id']: e for e in base_results}\n",
    "    with open(f'./data/zsV3real_s3_chatgpt_{run_idx}_T0.7.json') as f:\n",
    "        synth_processes = json.load(f)\n",
    "        autosd_id2proc = {e['task_id']: e for e in synth_processes}\n",
    "    with open(f'./data/zsV3real_s3_chatgpt_testResults_{run_idx}_T0.7.jsonl') as f:\n",
    "        autosd_results = json.load(f)\n",
    "        autosd_id2res = {e['task_id']: e for e in autosd_results}\n",
    "    \n",
    "    assert len(synth_processes) == len(autosd_results)\n",
    "    for base_apr_res in base_results:\n",
    "        bug_name = base_apr_res['task_id']\n",
    "        true_bug_name = bug_name.split('/')[-1]\n",
    "        synth_res = autosd_id2proc[bug_name] if bug_name in autosd_id2res else {'trace': ''}\n",
    "        autosd_apr_res = autosd_id2res[bug_name] if bug_name in autosd_id2res else {'fail_test_num': -1}\n",
    "        base_repair_succ = base_apr_res['fail_test_num'] >= 0 and len(set(base_apr_res['failed_tests'])-all_weirdos) == 0\n",
    "        autosd_repair_succ = autosd_apr_res['fail_test_num'] >= 0 and len(set(autosd_apr_res['failed_tests'])-all_weirdos) == 0\n",
    "        used_key = 'trace' if 'prompt_at_repair' in synth_res else 'trace'\n",
    "        synth_process = synth_res[used_key].split('## Analysis')[-1] \n",
    "        debugging_done = '<DEBUGGING DONE>' in synth_process\n",
    "        succ_hypothesis = 'The hypothesis is supported' in synth_process\n",
    "        autosd_corr_fixed = true_bug_name in corr_fixed_bugs\n",
    "        full_info_list.append({\n",
    "            'bug_name': bug_name,\n",
    "            'base_repair_succ': base_repair_succ,\n",
    "            'autosd_repair_succ': autosd_repair_succ,\n",
    "            'debugging_done': debugging_done,\n",
    "            'succ_hypothesis': succ_hypothesis,\n",
    "            'autosd_corr_fixed': autosd_corr_fixed,\n",
    "            'run_idx': run_idx,\n",
    "        })\n",
    "full_info_df = pandas.DataFrame(full_info_list)"
   ]
  },
  {
   "cell_type": "code",
   "execution_count": 25,
   "metadata": {},
   "outputs": [
    {
     "data": {
      "text/html": [
       "<div>\n",
       "<style scoped>\n",
       "    .dataframe tbody tr th:only-of-type {\n",
       "        vertical-align: middle;\n",
       "    }\n",
       "\n",
       "    .dataframe tbody tr th {\n",
       "        vertical-align: top;\n",
       "    }\n",
       "\n",
       "    .dataframe thead th {\n",
       "        text-align: right;\n",
       "    }\n",
       "</style>\n",
       "<table border=\"1\" class=\"dataframe\">\n",
       "  <thead>\n",
       "    <tr style=\"text-align: right;\">\n",
       "      <th></th>\n",
       "      <th>bug_name</th>\n",
       "      <th>base_repair_succ</th>\n",
       "      <th>autosd_repair_succ</th>\n",
       "      <th>debugging_done</th>\n",
       "      <th>succ_hypothesis</th>\n",
       "      <th>autosd_corr_fixed</th>\n",
       "      <th>run_idx</th>\n",
       "    </tr>\n",
       "  </thead>\n",
       "  <tbody>\n",
       "    <tr>\n",
       "      <th>0</th>\n",
       "      <td>Defects4J-APR/Chart_1</td>\n",
       "      <td>True</td>\n",
       "      <td>True</td>\n",
       "      <td>True</td>\n",
       "      <td>True</td>\n",
       "      <td>True</td>\n",
       "      <td>0</td>\n",
       "    </tr>\n",
       "    <tr>\n",
       "      <th>1</th>\n",
       "      <td>Defects4J-APR/Chart_2</td>\n",
       "      <td>False</td>\n",
       "      <td>False</td>\n",
       "      <td>False</td>\n",
       "      <td>False</td>\n",
       "      <td>False</td>\n",
       "      <td>0</td>\n",
       "    </tr>\n",
       "    <tr>\n",
       "      <th>2</th>\n",
       "      <td>Defects4J-APR/Chart_3</td>\n",
       "      <td>False</td>\n",
       "      <td>False</td>\n",
       "      <td>False</td>\n",
       "      <td>False</td>\n",
       "      <td>False</td>\n",
       "      <td>0</td>\n",
       "    </tr>\n",
       "    <tr>\n",
       "      <th>3</th>\n",
       "      <td>Defects4J-APR/Chart_4</td>\n",
       "      <td>True</td>\n",
       "      <td>True</td>\n",
       "      <td>False</td>\n",
       "      <td>False</td>\n",
       "      <td>True</td>\n",
       "      <td>0</td>\n",
       "    </tr>\n",
       "    <tr>\n",
       "      <th>4</th>\n",
       "      <td>Defects4J-APR/Chart_5</td>\n",
       "      <td>False</td>\n",
       "      <td>True</td>\n",
       "      <td>False</td>\n",
       "      <td>False</td>\n",
       "      <td>False</td>\n",
       "      <td>0</td>\n",
       "    </tr>\n",
       "  </tbody>\n",
       "</table>\n",
       "</div>"
      ],
      "text/plain": [
       "                bug_name  base_repair_succ  autosd_repair_succ  \\\n",
       "0  Defects4J-APR/Chart_1              True                True   \n",
       "1  Defects4J-APR/Chart_2             False               False   \n",
       "2  Defects4J-APR/Chart_3             False               False   \n",
       "3  Defects4J-APR/Chart_4              True                True   \n",
       "4  Defects4J-APR/Chart_5             False                True   \n",
       "\n",
       "   debugging_done  succ_hypothesis  autosd_corr_fixed  run_idx  \n",
       "0            True             True               True        0  \n",
       "1           False            False              False        0  \n",
       "2           False            False              False        0  \n",
       "3           False            False               True        0  \n",
       "4           False            False              False        0  "
      ]
     },
     "execution_count": 25,
     "metadata": {},
     "output_type": "execute_result"
    }
   ],
   "source": [
    "full_info_df.head()"
   ]
  },
  {
   "cell_type": "code",
   "execution_count": 26,
   "metadata": {},
   "outputs": [
    {
     "name": "stdout",
     "output_type": "stream",
     "text": [
      "Total: 777\n",
      "LLM-Base APR Plausibles: 253\n",
      "AutoSD APR Plausibles: 231\n",
      "Raw-AutoSD Uniques: 28\n",
      "Acc of Done: 0.3742603550295858\n",
      "Acc of Not Done: 0.11164364251480124\n"
     ]
    }
   ],
   "source": [
    "total_count = full_info_df.bug_name.nunique()\n",
    "print('Total:', total_count)\n",
    "print('LLM-Base APR Plausibles:', full_info_df[full_info_df.base_repair_succ]['bug_name'].nunique())\n",
    "print('AutoSD APR Plausibles:', full_info_df[full_info_df.autosd_repair_succ]['bug_name'].nunique())\n",
    "fixed_by_base = set(full_info_df[full_info_df.base_repair_succ]['bug_name'].unique())\n",
    "fixed_by_autosd = set(full_info_df[full_info_df.autosd_repair_succ]['bug_name'].unique())\n",
    "print('Raw-AutoSD Uniques:', len(fixed_by_autosd-fixed_by_base))\n",
    "print('Acc of Done:', (full_info_df[full_info_df.debugging_done]['autosd_repair_succ'].sum()/\n",
    "                      full_info_df.debugging_done.sum()))\n",
    "print('Acc of Not Done:', (full_info_df[~full_info_df.debugging_done]['autosd_repair_succ'].sum()/\n",
    "                           (~full_info_df.debugging_done).sum()))"
   ]
  },
  {
   "cell_type": "code",
   "execution_count": 27,
   "metadata": {},
   "outputs": [
    {
     "name": "stdout",
     "output_type": "stream",
     "text": [
      "Corr% of Done when plausible: 0.8921568627450981\n",
      "Corr% of Not Done when plausible: 0.8246445497630331\n"
     ]
    }
   ],
   "source": [
    "done_plausible_idx = full_info_df.debugging_done & (full_info_df.autosd_repair_succ)\n",
    "print('Corr% of Done when plausible:', (full_info_df[done_plausible_idx & full_info_df.autosd_corr_fixed]['bug_name'].nunique()/\n",
    "                      full_info_df[done_plausible_idx]['bug_name'].nunique()))\n",
    "notdone_plausible_idx = (~full_info_df.debugging_done) & (full_info_df.autosd_repair_succ)\n",
    "print('Corr% of Not Done when plausible:', (full_info_df[notdone_plausible_idx & full_info_df.autosd_corr_fixed]['bug_name'].nunique()/\n",
    "                           full_info_df[notdone_plausible_idx]['bug_name'].nunique()))"
   ]
  },
  {
   "cell_type": "code",
   "execution_count": 561,
   "metadata": {},
   "outputs": [],
   "source": []
  },
  {
   "cell_type": "code",
   "execution_count": null,
   "metadata": {},
   "outputs": [],
   "source": []
  }
 ],
 "metadata": {
  "kernelspec": {
   "display_name": "Python 3",
   "language": "python",
   "name": "python3"
  },
  "language_info": {
   "codemirror_mode": {
    "name": "ipython",
    "version": 3
   },
   "file_extension": ".py",
   "mimetype": "text/x-python",
   "name": "python",
   "nbconvert_exporter": "python",
   "pygments_lexer": "ipython3",
   "version": "3.6.6"
  }
 },
 "nbformat": 4,
 "nbformat_minor": 5
}
